{
 "cells": [
  {
   "cell_type": "code",
   "id": "initial_id",
   "metadata": {
    "collapsed": true,
    "ExecuteTime": {
     "end_time": "2024-08-27T08:55:45.868842Z",
     "start_time": "2024-08-27T08:55:45.657463Z"
    }
   },
   "source": [
    "from src.components.simulation import Simulation\n",
    "from examples.example_inventory_management.example_sim_config import config\n",
    "from src.components.quantity_net_graph import QuantityGraph\n",
    "import warnings\n",
    "warnings.filterwarnings(\"ignore\")\n",
    "\n",
    "qsim = Simulation(name=f\"Example_Inventory_Management\", config=config)\n",
    "qnet = qsim.execution.quantity_net\n",
    "\n",
    "graph = QuantityGraph(id=qsim.execution.quantity_net.id, name=qsim.execution.quantity_net.name, obj_label=qsim.execution.quantity_net.label, qnet=qsim.execution.quantity_net, marked=True)\n",
    "graph.create_graph()\n",
    "graph.export_graph(f\"{qsim.name}\", file_format=\"svg\")\n",
    "# q_state = qsim.overview_quantity_state()\n",
    "print(f\"Time: {qsim.queue.time}\")\n",
    "print(f\"Queue: {qsim.queue.queue}\")\n",
    "# print(f\"Quantity State: {q_state}\")\n",
    "# qsim.print_enabled_bindings()"
   ],
   "outputs": [
    {
     "ename": "ModuleNotFoundError",
     "evalue": "No module named 'Components'",
     "output_type": "error",
     "traceback": [
      "\u001B[1;31m---------------------------------------------------------------------------\u001B[0m",
      "\u001B[1;31mModuleNotFoundError\u001B[0m                       Traceback (most recent call last)",
      "Cell \u001B[1;32mIn[3], line 1\u001B[0m\n\u001B[1;32m----> 1\u001B[0m \u001B[38;5;28;01mfrom\u001B[39;00m \u001B[38;5;21;01msrc\u001B[39;00m\u001B[38;5;21;01m.\u001B[39;00m\u001B[38;5;21;01mcomponents\u001B[39;00m\u001B[38;5;21;01m.\u001B[39;00m\u001B[38;5;21;01msimulation\u001B[39;00m \u001B[38;5;28;01mimport\u001B[39;00m Simulation\n\u001B[0;32m      2\u001B[0m \u001B[38;5;28;01mfrom\u001B[39;00m \u001B[38;5;21;01mexamples\u001B[39;00m\u001B[38;5;21;01m.\u001B[39;00m\u001B[38;5;21;01mexample_inventory_management\u001B[39;00m\u001B[38;5;21;01m.\u001B[39;00m\u001B[38;5;21;01msim_config\u001B[39;00m \u001B[38;5;28;01mimport\u001B[39;00m config\n\u001B[0;32m      3\u001B[0m \u001B[38;5;28;01mfrom\u001B[39;00m \u001B[38;5;21;01msrc\u001B[39;00m\u001B[38;5;21;01m.\u001B[39;00m\u001B[38;5;21;01mcomponents\u001B[39;00m\u001B[38;5;21;01m.\u001B[39;00m\u001B[38;5;21;01mquantity_net_graph\u001B[39;00m \u001B[38;5;28;01mimport\u001B[39;00m QuantityGraph\n",
      "File \u001B[1;32m~\\PycharmProjects\\qel_simulation\\src\\components\\simulation.py:9\u001B[0m\n\u001B[0;32m      6\u001B[0m \u001B[38;5;28;01mimport\u001B[39;00m \u001B[38;5;21;01mpandas\u001B[39;00m \u001B[38;5;28;01mas\u001B[39;00m \u001B[38;5;21;01mpd\u001B[39;00m\n\u001B[0;32m      8\u001B[0m \u001B[38;5;28;01mfrom\u001B[39;00m \u001B[38;5;21;01msrc\u001B[39;00m\u001B[38;5;21;01m.\u001B[39;00m\u001B[38;5;21;01mcomponents\u001B[39;00m\u001B[38;5;21;01m.\u001B[39;00m\u001B[38;5;21;01mbase_element\u001B[39;00m \u001B[38;5;28;01mimport\u001B[39;00m BaseElement\n\u001B[1;32m----> 9\u001B[0m \u001B[38;5;28;01mfrom\u001B[39;00m \u001B[38;5;21;01msrc\u001B[39;00m\u001B[38;5;21;01m.\u001B[39;00m\u001B[38;5;21;01mcomponents\u001B[39;00m\u001B[38;5;21;01m.\u001B[39;00m\u001B[38;5;21;01mlog_elements\u001B[39;00m\u001B[38;5;21;01m.\u001B[39;00m\u001B[38;5;21;01mevent\u001B[39;00m \u001B[38;5;28;01mimport\u001B[39;00m Event\n\u001B[0;32m     10\u001B[0m \u001B[38;5;28;01mfrom\u001B[39;00m \u001B[38;5;21;01mComponents\u001B[39;00m\u001B[38;5;21;01m.\u001B[39;00m\u001B[38;5;21;01mLog_Elements\u001B[39;00m\u001B[38;5;21;01m.\u001B[39;00m\u001B[38;5;21;01mObject\u001B[39;00m \u001B[38;5;28;01mimport\u001B[39;00m Object, StatusActive, StatusInactive, StatusTerminated, Status, \\\n\u001B[0;32m     11\u001B[0m     BindingFunction, MultisetObject\n\u001B[0;32m     12\u001B[0m \u001B[38;5;28;01mfrom\u001B[39;00m \u001B[38;5;21;01msrc\u001B[39;00m\u001B[38;5;21;01m.\u001B[39;00m\u001B[38;5;21;01mcomponents\u001B[39;00m\u001B[38;5;21;01m.\u001B[39;00m\u001B[38;5;21;01mquantity_net_simulation\u001B[39;00m\u001B[38;5;21;01m.\u001B[39;00m\u001B[38;5;21;01mexecution_queue\u001B[39;00m \u001B[38;5;28;01mimport\u001B[39;00m (ExecutionQueue, ObjectCreation, ObjectQuantityChange,\n\u001B[0;32m     13\u001B[0m                                                                     ObjectAttributeChange, EndEvent, StartEvent,\n\u001B[0;32m     14\u001B[0m                                                                     ObjectStatusChange, ScheduleTypeFixed,\n\u001B[0;32m     15\u001B[0m                                                                     ScheduleTypeArrivalRate, ScheduleType)\n",
      "File \u001B[1;32m~\\PycharmProjects\\qel_simulation\\src\\components\\log_elements\\event.py:10\u001B[0m\n\u001B[0;32m      8\u001B[0m \u001B[38;5;28;01mfrom\u001B[39;00m \u001B[38;5;21;01msrc\u001B[39;00m\u001B[38;5;21;01m.\u001B[39;00m\u001B[38;5;21;01mcomponents\u001B[39;00m\u001B[38;5;21;01m.\u001B[39;00m\u001B[38;5;21;01mlog_elements\u001B[39;00m\u001B[38;5;21;01m.\u001B[39;00m\u001B[38;5;21;01mobject\u001B[39;00m \u001B[38;5;28;01mimport\u001B[39;00m Object, MultisetObject, BindingFunction\n\u001B[0;32m      9\u001B[0m \u001B[38;5;28;01mfrom\u001B[39;00m \u001B[38;5;21;01msrc\u001B[39;00m\u001B[38;5;21;01m.\u001B[39;00m\u001B[38;5;21;01mcomponents\u001B[39;00m\u001B[38;5;21;01m.\u001B[39;00m\u001B[38;5;21;01mnet_elements\u001B[39;00m\u001B[38;5;21;01m.\u001B[39;00m\u001B[38;5;21;01mcollection_point\u001B[39;00m \u001B[38;5;28;01mimport\u001B[39;00m CollectionCounter\n\u001B[1;32m---> 10\u001B[0m \u001B[38;5;28;01mfrom\u001B[39;00m \u001B[38;5;21;01msrc\u001B[39;00m\u001B[38;5;21;01m.\u001B[39;00m\u001B[38;5;21;01mcomponents\u001B[39;00m\u001B[38;5;21;01m.\u001B[39;00m\u001B[38;5;21;01mquantity_net\u001B[39;00m \u001B[38;5;28;01mimport\u001B[39;00m Execution\n\u001B[0;32m     11\u001B[0m \u001B[38;5;28;01mfrom\u001B[39;00m \u001B[38;5;21;01msrc\u001B[39;00m\u001B[38;5;21;01m.\u001B[39;00m\u001B[38;5;21;01mcomponents\u001B[39;00m\u001B[38;5;21;01m.\u001B[39;00m\u001B[38;5;21;01mquantity_net_simulation\u001B[39;00m\u001B[38;5;21;01m.\u001B[39;00m\u001B[38;5;21;01minstructions\u001B[39;00m \u001B[38;5;28;01mimport\u001B[39;00m Instruction, InstructionObjectCreation\n\u001B[0;32m     13\u001B[0m rng \u001B[38;5;241m=\u001B[39m np\u001B[38;5;241m.\u001B[39mrandom\u001B[38;5;241m.\u001B[39mdefault_rng(seed\u001B[38;5;241m=\u001B[39m\u001B[38;5;241m42\u001B[39m)\n",
      "File \u001B[1;32m~\\PycharmProjects\\qel_simulation\\src\\components\\quantity_net.py:6\u001B[0m\n\u001B[0;32m      3\u001B[0m \u001B[38;5;28;01mfrom\u001B[39;00m \u001B[38;5;21;01mtyping\u001B[39;00m \u001B[38;5;28;01mimport\u001B[39;00m Type, Callable\n\u001B[0;32m      5\u001B[0m \u001B[38;5;28;01mfrom\u001B[39;00m \u001B[38;5;21;01msrc\u001B[39;00m\u001B[38;5;21;01m.\u001B[39;00m\u001B[38;5;21;01mcomponents\u001B[39;00m\u001B[38;5;21;01m.\u001B[39;00m\u001B[38;5;21;01mbase_element\u001B[39;00m \u001B[38;5;28;01mimport\u001B[39;00m BaseElement, ConnectedElement\n\u001B[1;32m----> 6\u001B[0m \u001B[38;5;28;01mfrom\u001B[39;00m \u001B[38;5;21;01mComponents\u001B[39;00m\u001B[38;5;21;01m.\u001B[39;00m\u001B[38;5;21;01mLog_Elements\u001B[39;00m\u001B[38;5;21;01m.\u001B[39;00m\u001B[38;5;21;01mObject\u001B[39;00m \u001B[38;5;28;01mimport\u001B[39;00m Object\n\u001B[0;32m      7\u001B[0m \u001B[38;5;28;01mfrom\u001B[39;00m \u001B[38;5;21;01msrc\u001B[39;00m\u001B[38;5;21;01m.\u001B[39;00m\u001B[38;5;21;01mcomponents\u001B[39;00m\u001B[38;5;21;01m.\u001B[39;00m\u001B[38;5;21;01mnet_elements\u001B[39;00m\u001B[38;5;21;01m.\u001B[39;00m\u001B[38;5;21;01marc\u001B[39;00m \u001B[38;5;28;01mimport\u001B[39;00m Arc\n\u001B[0;32m      8\u001B[0m \u001B[38;5;28;01mfrom\u001B[39;00m \u001B[38;5;21;01msrc\u001B[39;00m\u001B[38;5;21;01m.\u001B[39;00m\u001B[38;5;21;01mcomponents\u001B[39;00m\u001B[38;5;21;01m.\u001B[39;00m\u001B[38;5;21;01mnet_elements\u001B[39;00m\u001B[38;5;21;01m.\u001B[39;00m\u001B[38;5;21;01mcollection_point\u001B[39;00m \u001B[38;5;28;01mimport\u001B[39;00m CollectionPoint, CollectionCounter\n",
      "\u001B[1;31mModuleNotFoundError\u001B[0m: No module named 'Components'"
     ]
    }
   ],
   "execution_count": 3
  },
  {
   "metadata": {
    "ExecuteTime": {
     "end_time": "2024-08-20T19:43:53.799301Z",
     "start_time": "2024-08-20T19:43:38.800205Z"
    }
   },
   "cell_type": "code",
   "source": [
    "qsim.start_simulation()\n",
    "qnet = qsim.execution.quantity_net\n",
    "qel = qsim.execution.event_log\n",
    "graph = QuantityGraph(id=qsim.execution.quantity_net.id, name=qsim.execution.quantity_net.name, obj_label=qsim.execution.quantity_net.label, qnet=qsim.execution.quantity_net, marked=True)\n",
    "graph.create_graph()\n",
    "graph.export_graph(f\"{qsim.name}\", file_format=\"svg\")\n",
    "# qel.save_event_logs_to_sql_lite()\n",
    "# 13:52"
   ],
   "id": "2623535f0d177b0b",
   "outputs": [],
   "execution_count": 2
  },
  {
   "metadata": {
    "ExecuteTime": {
     "end_time": "2024-07-13T15:52:56.779210Z",
     "start_time": "2024-07-13T15:52:56.735484Z"
    }
   },
   "cell_type": "code",
   "outputs": [
    {
     "name": "stdout",
     "output_type": "stream",
     "text": [
      "Time: 2019-10-13 08:31:43.802071\n",
      "Queue: [End Event 'Completed Customer Order', Object Creation 'Parcel', Object Creation 'Customer Order', Object Creation 'Timing Replenishment Order', Object Creation 'Incoming Delivery', Object Creation 'Timing PADS Delivery']\n"
     ]
    }
   ],
   "execution_count": 31,
   "source": [
    "qsim.execute_simulation_step()\n",
    "# qsim.print_enabled_bindings()\n",
    "print(f\"Time: {qsim.queue.time}\")\n",
    "print(f\"Queue: {qsim.queue.queue}\")\n",
    "# graph.export_graph(f\"{qsim.name}\", file_format=\"svg\")"
   ],
   "id": "593350eb7578b848"
  },
  {
   "metadata": {
    "ExecuteTime": {
     "end_time": "2024-07-14T16:10:11.302509Z",
     "start_time": "2024-07-14T16:10:11.184427Z"
    }
   },
   "cell_type": "code",
   "outputs": [],
   "execution_count": 2,
   "source": [
    "###### create dot string\n",
    "# qnet = qsim.execution.quantity_net\n",
    "# graph = QuantityGraph(id=qsim.execution.quantity_net.id, name=qsim.execution.quantity_net.name, obj_label=qsim.execution.quantity_net.label, qnet=qsim.execution.quantity_net, marked=True)\n",
    "# graph.create_graph()\n",
    "# graph.graph.draw(f\"{qsim.name}\", prog=\"dot\", format=\"dot\")"
   ],
   "id": "b2d6aa62d3ca527b"
  }
 ],
 "metadata": {
  "kernelspec": {
   "display_name": "Python 3",
   "language": "python",
   "name": "python3"
  },
  "language_info": {
   "codemirror_mode": {
    "name": "ipython",
    "version": 2
   },
   "file_extension": ".py",
   "mimetype": "text/x-python",
   "name": "python",
   "nbconvert_exporter": "python",
   "pygments_lexer": "ipython2",
   "version": "2.7.6"
  }
 },
 "nbformat": 4,
 "nbformat_minor": 5
}
