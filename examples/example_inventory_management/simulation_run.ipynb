{
 "cells": [
  {
   "metadata": {
    "collapsed": true,
    "ExecuteTime": {
     "end_time": "2024-08-29T17:16:45.567744Z",
     "start_time": "2024-08-29T17:16:43.613049Z"
    }
   },
   "cell_type": "code",
   "source": [
    "from qel_simulation.simulation.simulation import Simulation\n",
    "from examples.example_inventory_management.example_sim_config import config\n",
    "from qel_simulation.components.quantity_net_graph import QuantityGraph\n",
    "import warnings\n",
    "warnings.filterwarnings(\"ignore\")\n",
    "\n",
    "qsim = Simulation(name=f\"Example_Inventory_Management\", config=config)\n",
    "qnet = qsim.execution.quantity_net\n",
    "\n",
    "graph = QuantityGraph(id=qsim.execution.quantity_net.id, name=qsim.execution.quantity_net.name, obj_label=qsim.execution.quantity_net.label, qnet=qsim.execution.quantity_net, marked=True)\n",
    "graph.create_graph()\n",
    "graph.export_graph(f\"{qsim.name}\", file_format=\"svg\")\n",
    "# q_state = qsim.overview_quantity_state()\n",
    "print(f\"Time: {qsim.queue.time}\")\n",
    "print(f\"Queue: {qsim.queue.queue}\")\n",
    "# print(f\"Quantity State: {q_state}\")\n",
    "# qsim.print_enabled_bindings()"
   ],
   "id": "initial_id",
   "outputs": [
    {
     "name": "stdout",
     "output_type": "stream",
     "text": [
      "Object type Parcel added to Example_Inventory_Management_execution.\n",
      "Object type Customer Order added to Example_Inventory_Management_execution.\n",
      "Object type Replenishment Order added to Example_Inventory_Management_execution.\n",
      "Object type Incoming Delivery added to Example_Inventory_Management_execution.\n",
      "Object type Palette added to Example_Inventory_Management_execution.\n",
      "Object type Warehouse Employee added to Example_Inventory_Management_execution.\n",
      "Object type Administrative Employee added to Example_Inventory_Management_execution.\n",
      "Object type Remaining Customer Order added to Example_Inventory_Management_execution.\n",
      "Object type Loading Bay added to Example_Inventory_Management_execution.\n",
      "Object type Timing Replenishment Order added to Example_Inventory_Management_execution.\n",
      "Object type Timing PADS Delivery added to Example_Inventory_Management_execution.\n",
      "Quantity net qnet_config_example_material_flow successfully created according to example_material_flow.\n",
      "Activity Initiate Replenishment Order (SmallStock) added to Example_Inventory_Management_execution.\n",
      "Activity Initiate Replenishment Order (TimeBased) added to Example_Inventory_Management_execution.\n",
      "Activity Initiate PADS Delivery (TimeBased) added to Example_Inventory_Management_execution.\n",
      "Activity Initiate PADS Delivery (SmallStock) added to Example_Inventory_Management_execution.\n",
      "Activity Place Replenishment Order added to Example_Inventory_Management_execution.\n",
      "Activity Unpack Incoming Delivery added to Example_Inventory_Management_execution.\n",
      "Activity Register incoming Customer Order added to Example_Inventory_Management_execution.\n",
      "Activity Pick and pack items for Customer Order added to Example_Inventory_Management_execution.\n",
      "Activity Send Parcel to Customer added to Example_Inventory_Management_execution.\n",
      "Activity Remaining Items for Customer Order added to Example_Inventory_Management_execution.\n",
      "Activity Cancel Customer Order added to Example_Inventory_Management_execution.\n",
      "Activity Completed Customer Order added to Example_Inventory_Management_execution.\n",
      "Activity Identify incoming Delivery added to Example_Inventory_Management_execution.\n",
      "Activity Place delivered Items into Inventory added to Example_Inventory_Management_execution.\n",
      "Time: 2019-10-12 12:21:00\n",
      "Queue: [Object Creation 'Customer Order', Object Creation 'Timing Replenishment Order', Object Creation 'Timing PADS Delivery']\n"
     ]
    }
   ],
   "execution_count": 1
  },
  {
   "metadata": {
    "ExecuteTime": {
     "end_time": "2024-08-29T12:40:11.209768Z",
     "start_time": "2024-08-29T12:40:11.192235Z"
    }
   },
   "cell_type": "code",
   "source": [
    "qsim.start_simulation()\n",
    "qnet = qsim.execution.quantity_net\n",
    "qel = qsim.execution.event_log\n",
    "graph = QuantityGraph(id=qsim.execution.quantity_net.id, name=qsim.execution.quantity_net.name, obj_label=qsim.execution.quantity_net.label, qnet=qsim.execution.quantity_net, marked=True)\n",
    "graph.create_graph()\n",
    "graph.export_graph(f\"{qsim.name}\", file_format=\"svg\")\n",
    "# qel.save_event_logs_to_sql_lite()\n",
    "# 13:52"
   ],
   "id": "2623535f0d177b0b",
   "outputs": [
    {
     "ename": "NameError",
     "evalue": "name 'qsim' is not defined",
     "output_type": "error",
     "traceback": [
      "\u001B[1;31m---------------------------------------------------------------------------\u001B[0m",
      "\u001B[1;31mNameError\u001B[0m                                 Traceback (most recent call last)",
      "Cell \u001B[1;32mIn[4], line 1\u001B[0m\n\u001B[1;32m----> 1\u001B[0m \u001B[43mqsim\u001B[49m\u001B[38;5;241m.\u001B[39mstart_simulation()\n\u001B[0;32m      2\u001B[0m qnet \u001B[38;5;241m=\u001B[39m qsim\u001B[38;5;241m.\u001B[39mexecution\u001B[38;5;241m.\u001B[39mquantity_net\n\u001B[0;32m      3\u001B[0m qel \u001B[38;5;241m=\u001B[39m qsim\u001B[38;5;241m.\u001B[39mexecution\u001B[38;5;241m.\u001B[39mevent_log\n",
      "\u001B[1;31mNameError\u001B[0m: name 'qsim' is not defined"
     ]
    }
   ],
   "execution_count": 4
  },
  {
   "metadata": {
    "ExecuteTime": {
     "end_time": "2024-07-13T15:52:56.779210Z",
     "start_time": "2024-07-13T15:52:56.735484Z"
    }
   },
   "cell_type": "code",
   "outputs": [
    {
     "name": "stdout",
     "output_type": "stream",
     "text": [
      "Time: 2019-10-13 08:31:43.802071\n",
      "Queue: [End Event 'Completed Customer Order', Object Creation 'Parcel', Object Creation 'Customer Order', Object Creation 'Timing Replenishment Order', Object Creation 'Incoming Delivery', Object Creation 'Timing PADS Delivery']\n"
     ]
    }
   ],
   "execution_count": 31,
   "source": [
    "qsim.execute_simulation_step()\n",
    "# qsim.print_enabled_bindings()\n",
    "print(f\"Time: {qsim.queue.time}\")\n",
    "print(f\"Queue: {qsim.queue.queue}\")\n",
    "# graph.export_graph(f\"{qsim.name}\", file_format=\"svg\")"
   ],
   "id": "593350eb7578b848"
  },
  {
   "metadata": {
    "ExecuteTime": {
     "end_time": "2024-07-14T16:10:11.302509Z",
     "start_time": "2024-07-14T16:10:11.184427Z"
    }
   },
   "cell_type": "code",
   "outputs": [],
   "execution_count": 2,
   "source": [
    "###### create dot string\n",
    "# qnet = qsim.execution.quantity_net\n",
    "# graph = QuantityGraph(id=qsim.execution.quantity_net.id, name=qsim.execution.quantity_net.name, obj_label=qsim.execution.quantity_net.label, qnet=qsim.execution.quantity_net, marked=True)\n",
    "# graph.create_graph()\n",
    "# graph.graph.draw(f\"{qsim.name}\", prog=\"dot\", format=\"dot\")"
   ],
   "id": "b2d6aa62d3ca527b"
  }
 ],
 "metadata": {
  "kernelspec": {
   "display_name": "Python 3",
   "language": "python",
   "name": "python3"
  },
  "language_info": {
   "codemirror_mode": {
    "name": "ipython",
    "version": 2
   },
   "file_extension": ".py",
   "mimetype": "text/x-python",
   "name": "python",
   "nbconvert_exporter": "python",
   "pygments_lexer": "ipython2",
   "version": "2.7.6"
  }
 },
 "nbformat": 4,
 "nbformat_minor": 5
}
